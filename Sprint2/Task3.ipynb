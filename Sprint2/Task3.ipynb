{
 "cells": [
  {
   "cell_type": "markdown",
   "metadata": {},
   "source": [
    "<h1 style=\"color:DodgerBlue\">Индивидальный проект</h1>"
   ]
  },
  {
   "cell_type": "markdown",
   "metadata": {},
   "source": [
    "<h2 style=\"color:DodgerBlue\">Название проекта:</h2>\n",
    "\n",
    "----\n",
    "\n",
    "### Вариант задания № 18\n"
   ]
  },
  {
   "cell_type": "markdown",
   "metadata": {},
   "source": [
    "<h2 style=\"color:DodgerBlue\">Описание проекта:</h2>\n",
    "\n",
    "----\n",
    "\n",
    "Описание задачи:\n",
    "Создать базовый класс Review в C#, который будет представлять отзывы о \n",
    "продуктах или услугах. На основе этого класса разработать 2-3 производных класса, \n",
    "демонстрирующих принципы наследования и полиморфизма. В каждом из классов \n",
    "должны быть реализованы новые атрибуты и методы, а также переопределены \n",
    "некоторые методы базового класса для демонстрации полиморфизма.\n",
    "\n",
    "Требования к базовому классу Review:\n",
    "\n",
    "    • Атрибуты: ID отзыва (ReviewId), Текст отзыва (Text), Рейтинг (Rating).\n",
    "\n",
    "    • Методы:\n",
    "\n",
    "        o DisplayReview(): метод для отображения отзыва.\n",
    "\n",
    "        o RateProduct(): метод для присвоения рейтинга продукту.\n",
    "\n",
    "        o GetReviewDetails(): метод для получения деталей отзыва.\n",
    "\n",
    "Требования к производным классам:\n",
    "    \n",
    "    1. ОтзывОбслуживания (ServiceReview): Должен содержать дополнительные \n",
    "    атрибуты, такие как Дата посещения (VisitDate). \n",
    "    Метод DisplayReview() должен быть переопределен для включения даты \n",
    "    посещения в отображение отзыва.\n",
    "    \n",
    "    2. ОтзывТовара (ProductReview): Должен содержать дополнительные атрибуты, \n",
    "    такие как Идентификатор продукта (ProductId). Метод RateProduct() должен \n",
    "    быть переопределен для связывания рейтинга с конкретным продуктом.\n",
    "    \n",
    "    3. ОтзывУслуги (ServiceReview) (если требуется третий класс): Должен \n",
    "    содержать дополнительные атрибуты, такие как Время начала услуги \n",
    "    (StartTime). Метод GetReviewDetails() должен быть переопределен для \n",
    "    отображения времени начала услуги вместе с другими деталями отзыва.\n",
    "\n",
    "#### Дополнительное задание\n",
    "Добавьте к сущестующим классам (базовыму и производным 3-4 атрибута и метода) и реализуйте простое, сложное и множественное наследование"
   ]
  },
  {
   "cell_type": "markdown",
   "metadata": {},
   "source": [
    "<h2 style=\"color:DodgerBlue\">Реализация:</h2>\n",
    "\n",
    "----"
   ]
  },
  {
   "cell_type": "code",
   "execution_count": null,
   "metadata": {
    "dotnet_interactive": {
     "language": "csharp"
    },
    "polyglot_notebook": {
     "kernelName": "csharp"
    }
   },
   "outputs": [
    {
     "name": "stdout",
     "output_type": "stream",
     "text": [
      "ID: 1, Рейтинг: 5, Хороший сервис,  Дата посещения: 25.10.2024 21:18:18, Отзыв оставлен: Алиса, 25.10.2024 21:18:18, Тип услуги: Клининг\n",
      "Я рекомендую данную услугу: Клининг.\n",
      "ID: 2, Рейтинг: 4, Хороший продукт, Отзыв оставлен: Макс, 25.10.2024 21:18:18\n",
      "Рейтинг продукта 123 из категории Электроника изменен на 5\n",
      "ID: 2, Рейтинг: 5, Хороший продукт, Отзыв оставлен: Макс, 25.10.2024 21:18:18\n",
      "Вы также можете выбрать другой продукт из категории Электроника.\n",
      "ID: 3, Рейтинг: 5, Хорошие услуги, Отзыв оставлен: Володя, 25.10.2024 21:18:18, Время начала оказания услуги: 10:00:00\n"
     ]
    }
   ],
   "source": [
    "public abstract class Review\n",
    "{\n",
    "    public int ReviewId { get; set; }\n",
    "    public string Text { get; set; }\n",
    "    public int Rating { get; set; }\n",
    "    public string ReviewerName { get; set; }\n",
    "    public DateTime ReviewDate { get; set; }\n",
    "\n",
    "    public Review(int reviewId, string text, int rating, string reviewerName)\n",
    "    {\n",
    "        ReviewId = reviewId;\n",
    "        Text = text;\n",
    "        Rating = rating;\n",
    "        ReviewerName = reviewerName;\n",
    "        ReviewDate = DateTime.Now;\n",
    "    }\n",
    "\n",
    "    public virtual void DisplayReview()\n",
    "    {\n",
    "        Console.WriteLine($\"ID: {ReviewId}, Рейтинг: {Rating}, {Text}\");\n",
    "    }\n",
    "\n",
    "    public virtual void RateProduct(int rating)\n",
    "    {\n",
    "        Rating = rating;\n",
    "    }\n",
    "\n",
    "    public virtual string GetReviewDetails()\n",
    "    {\n",
    "        return $\"ID: {ReviewId}, Рейтинг: {Rating}, {Text}, Отзыв оставлен: {ReviewerName}, {ReviewDate}\";\n",
    "    }\n",
    "\n",
    "    public virtual void EditReview(string newText)\n",
    "    {\n",
    "        Text = newText;\n",
    "    }\n",
    "}\n",
    "\n",
    "public class ServiceReview : Review\n",
    "{\n",
    "    public DateTime VisitDate { get; set; }\n",
    "    public string ServiceType { get; set; }\n",
    "\n",
    "    public ServiceReview(int reviewId, string text, int rating, string reviewerName, DateTime visitDate, string serviceType)\n",
    "        : base(reviewId, text, rating, reviewerName)\n",
    "    {\n",
    "        VisitDate = visitDate;\n",
    "        ServiceType = serviceType;\n",
    "    }\n",
    "\n",
    "    public override void DisplayReview()\n",
    "    {\n",
    "        Console.WriteLine($\"ID: {ReviewId}, Рейтинг: {Rating}, {Text},  Дата посещения: {VisitDate}, Отзыв оставлен: {ReviewerName}, {ReviewDate}, Тип услуги: {ServiceType}\");\n",
    "    }\n",
    "\n",
    "    public void RecommendService()\n",
    "    {\n",
    "        Console.WriteLine($\"Я рекомендую данную услугу: {ServiceType}.\");\n",
    "    }\n",
    "}\n",
    "\n",
    "public class ProductReview : Review\n",
    "{\n",
    "    public int ProductId { get; set; }\n",
    "    public string ProductCategory { get; set; }\n",
    "\n",
    "    public ProductReview(int reviewId, string text, int rating, string reviewerName, int productId, string productCategory)\n",
    "        : base(reviewId, text, rating, reviewerName)\n",
    "    {\n",
    "        ProductId = productId;\n",
    "        ProductCategory = productCategory;\n",
    "    }\n",
    "\n",
    "    public override void RateProduct(int rating)\n",
    "    {\n",
    "        base.RateProduct(rating);\n",
    "        Console.WriteLine($\"Рейтинг продукта ID: {ProductId} из категории {ProductCategory} изменен на {Rating}\");\n",
    "    }\n",
    "\n",
    "    public void SuggestSimilarProducts()\n",
    "    {\n",
    "        Console.WriteLine($\"Вы также можете выбрать другой продукт из категории {ProductCategory}.\");\n",
    "    }\n",
    "}\n",
    "\n",
    "public class ServiceReviewWithStartTime : ServiceReview\n",
    "{\n",
    "    public TimeSpan StartTime { get; set; }\n",
    "\n",
    "    public ServiceReviewWithStartTime(int reviewId, string text, int rating, string reviewerName, DateTime visitDate, string serviceType, TimeSpan startTime)\n",
    "        : base(reviewId, text, rating, reviewerName, visitDate, serviceType)\n",
    "    {\n",
    "        StartTime = startTime;\n",
    "    }\n",
    "\n",
    "    public override string GetReviewDetails()\n",
    "    {\n",
    "        return base.GetReviewDetails() + $\", Время начала оказания услуги: {StartTime}\";\n",
    "    }\n",
    "}\n",
    "\n",
    "\n",
    "ServiceReview serviceReview = new ServiceReview(1, \"Хороший сервис\", 5, \"Алиса\", DateTime.Now, \"Клининг\");\n",
    "serviceReview.DisplayReview();\n",
    "serviceReview.RecommendService();\n",
    "\n",
    "ProductReview productReview = new ProductReview(2, \"Хороший продукт\", 4, \"Макс\", 123, \"Электроника\");\n",
    "Console.WriteLine(productReview.GetReviewDetails());\n",
    "productReview.RateProduct(5);\n",
    "Console.WriteLine(productReview.GetReviewDetails());\n",
    "productReview.SuggestSimilarProducts();\n",
    "\n",
    "ServiceReviewWithStartTime serviceReviewWithStartTime = new ServiceReviewWithStartTime(3, \"Хорошие услуги\", 5, \"Володя\", DateTime.Now, \"Ремонт\", TimeSpan.FromHours(10));\n",
    "Console.WriteLine(serviceReviewWithStartTime.GetReviewDetails());"
   ]
  }
 ],
 "metadata": {
  "kernelspec": {
   "display_name": ".NET (C#)",
   "language": "C#",
   "name": ".net-csharp"
  },
  "polyglot_notebook": {
   "kernelInfo": {
    "defaultKernelName": "csharp",
    "items": [
     {
      "aliases": [],
      "languageName": "csharp",
      "name": "csharp"
     }
    ]
   }
  }
 },
 "nbformat": 4,
 "nbformat_minor": 2
}
